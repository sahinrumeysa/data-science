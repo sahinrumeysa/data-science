{
  "metadata": {
    "kernelspec": {
      "name": "python",
      "display_name": "Python (Pyodide)",
      "language": "python"
    },
    "language_info": {
      "codemirror_mode": {
        "name": "python",
        "version": 3
      },
      "file_extension": ".py",
      "mimetype": "text/x-python",
      "name": "python",
      "nbconvert_exporter": "python",
      "pygments_lexer": "ipython3",
      "version": "3.8"
    }
  },
  "nbformat_minor": 4,
  "nbformat": 4,
  "cells": [
    {
      "cell_type": "code",
      "source": "",
      "metadata": {
        "trusted": true
      },
      "outputs": [],
      "execution_count": null
    },
    {
      "cell_type": "markdown",
      "source": "### Data science tools",
      "metadata": {}
    },
    {
      "cell_type": "markdown",
      "source": "I need to write an introductory sentence for my assignment",
      "metadata": {}
    },
    {
      "cell_type": "markdown",
      "source": "I will list the data science languages.\n\n1. Python\n2. R\n3. SQL\n4. Java\n5. SAS",
      "metadata": {}
    },
    {
      "cell_type": "markdown",
      "source": "I will lit the data science libraries:\n\n1. Pandas\n2. NumPy\n3. Matplotlib\n4. Seaborn\n5. Scikit-learn\n6. Ggplot2",
      "metadata": {}
    },
    {
      "cell_type": "markdown",
      "source": "| Data Science Tools  |\r\n|---------------------|\r\n| Anaconda            |\r\n| R Studio            |\r\n| Spyder              |\r\n| Jupyter Notebooks   |\r\n\n\n",
      "metadata": {}
    },
    {
      "cell_type": "markdown",
      "source": "### The mathematical calculations are performed using arithmetic expressions, for example, 7 - 1 = 6.",
      "metadata": {}
    },
    {
      "cell_type": "code",
      "source": "# Multiply and add integers\nj = 5\nk = 3\nresult_multiply = j * k\nresult_add = j + k\n\nresult_multiply, result_add\n",
      "metadata": {
        "trusted": true
      },
      "outputs": [
        {
          "execution_count": 6,
          "output_type": "execute_result",
          "data": {
            "text/plain": "(15, 8)"
          },
          "metadata": {}
        }
      ],
      "execution_count": 6
    },
    {
      "cell_type": "code",
      "source": "# Convert minutes to hours\nminutes = 180\nhours = minutes / 60\n\nhours\n",
      "metadata": {
        "trusted": true
      },
      "outputs": [
        {
          "execution_count": 7,
          "output_type": "execute_result",
          "data": {
            "text/plain": "3.0"
          },
          "metadata": {}
        }
      ],
      "execution_count": 7
    },
    {
      "cell_type": "markdown",
      "source": "# Objectives\n\n- Progress in the field of data science\n- Learn Python and SQL\n- Succeed in the course\n- Dignity\n",
      "metadata": {}
    },
    {
      "cell_type": "markdown",
      "source": "## Author\n\nJeon Jungkook",
      "metadata": {}
    },
    {
      "cell_type": "code",
      "source": "",
      "metadata": {
        "trusted": true
      },
      "outputs": [],
      "execution_count": null
    }
  ]
}